{
 "cells": [
  {
   "cell_type": "markdown",
   "metadata": {},
   "source": [
    "# problem statement 1"
   ]
  },
  {
   "cell_type": "code",
   "execution_count": 2,
   "metadata": {},
   "outputs": [],
   "source": [
    "import numpy as np"
   ]
  },
  {
   "cell_type": "code",
   "execution_count": 3,
   "metadata": {},
   "outputs": [
    {
     "name": "stdout",
     "output_type": "stream",
     "text": [
      "[  5.          13.33333333  15.          16.33333333  28.66666667\n",
      "  49.33333333  72.66666667  84.          93.33333333 116.33333333]\n"
     ]
    }
   ],
   "source": [
    "def moving_average(a,n=3):\n",
    "    ret = np.cumsum(a, dtype = float)\n",
    "    ret[n:] = ret[n:] - ret[:-n]\n",
    "    return ret[n -1:]/n\n",
    "a = [3 ,5 ,7 ,28 ,10 ,11 ,65 ,72 ,81 ,99 ,100 ,150]\n",
    "print(moving_average(a,n=3))"
   ]
  },
  {
   "cell_type": "code",
   "execution_count": null,
   "metadata": {},
   "outputs": [],
   "source": []
  }
 ],
 "metadata": {
  "kernelspec": {
   "display_name": "Python 3",
   "language": "python",
   "name": "python3"
  },
  "language_info": {
   "codemirror_mode": {
    "name": "ipython",
    "version": 3
   },
   "file_extension": ".py",
   "mimetype": "text/x-python",
   "name": "python",
   "nbconvert_exporter": "python",
   "pygments_lexer": "ipython3",
   "version": "3.7.3"
  }
 },
 "nbformat": 4,
 "nbformat_minor": 2
}
